{
 "cells": [
  {
   "cell_type": "code",
   "execution_count": 1,
   "metadata": {},
   "outputs": [],
   "source": [
    "import numpy as np\n",
    "import time\n",
    "import os"
   ]
  },
  {
   "cell_type": "code",
   "execution_count": 174,
   "metadata": {},
   "outputs": [],
   "source": [
    "f = open('data/user_ratedmovies.dat') #считыание \n",
    "f1 = open('data/1.csv','w')\n",
    "for i in f:\n",
    "    k=0\n",
    "    st=''\n",
    "    for j in i:\n",
    "        if (j=='\\t'):\n",
    "            st=st+',' \n",
    "        else:\n",
    "            st=st+j\n",
    "        k=k+1           \n",
    "    f1.write(st)   \n",
    "    \n",
    "f1.close()    \n",
    "f.close()"
   ]
  },
  {
   "cell_type": "code",
   "execution_count": 2,
   "metadata": {},
   "outputs": [],
   "source": [
    "import pandas as pd\n",
    "import numpy as np\n",
    "import scipy\n",
    "data = pd.read_csv('C:/Users/Admin/Desktop/3/1.csv')"
   ]
  },
  {
   "cell_type": "code",
   "execution_count": 3,
   "metadata": {},
   "outputs": [],
   "source": [
    "class SYS:                     #### основной класс\n",
    "    def __init__(self):\n",
    "\n",
    "        self.pu = None ### матрицы 1\n",
    "        self.qi = None ### матрица 2 \n",
    "        self.global_mean = None ### средняя оценка по всем данным\n",
    "        self.user_dict = None ### словарь по пользователям\n",
    "        self.item_dict = None ### словарь по фильмам\n",
    "    def preprocess(self,data):                             #########препроцессинг данных \n",
    "        X = data.copy()\n",
    "\n",
    "        user  = X['userID'].unique().tolist()\n",
    "        movie = X['movieID'].unique().tolist()\n",
    "       \n",
    "        self.user_dict = dict(zip(user, list(range(len(user)))))\n",
    "        self.item_dict = dict(zip(movie, list(range(len(movie)))))\n",
    "      \n",
    "        X['userID'] = X['userID'].map(self.user_dict)\n",
    "        X['movieID'] = X['movieID'].map(self.item_dict)\n",
    "\n",
    "        \n",
    "        \n",
    "        return X[['userID', 'movieID', 'rating']].values\n",
    "    \n",
    "    def SVD(self,data,lr=0.001,reg=0.005, n_epochs=20,n_factors=8): ## Задание параметров модели и запуск\n",
    "        X = self.preprocess(data)\n",
    "        \n",
    "        n_user = len(np.unique(X[:, 0]))\n",
    "        n_item = len(np.unique(X[:, 1]))\n",
    "        self.global_mean = np.mean(X[:, 2])\n",
    "        \n",
    "        pu = np.random.normal(0, .1, (n_user, n_factors))\n",
    "        qi = np.random.normal(0, .1, (n_item, n_factors))\n",
    "        bias_user = np.zeros(n_user)\n",
    "        bias_item = np.zeros(n_item)\n",
    "        for i in range(n_epochs):\n",
    "            pu, qi, bias_user, bias_item = run(X, pu, qi, bias_user, bias_item, self.global_mean, n_factors, lr, reg)\n",
    "            print('эпоха : ',i)\n",
    "        self.pu = pu\n",
    "        self.qi = qi\n",
    "        self.bias_user = bias_user\n",
    "        self.bias_item = bias_item    \n",
    "\n",
    "    def predict(self,X):             ####предсказание по массиву\n",
    "        predictions=[]\n",
    "        for i,j in zip(X['userID'],X['movieID']):\n",
    "                predictions.append(self.predict1(i, j))\n",
    "\n",
    "        return predictions\n",
    "    \n",
    "    def predict1(self,user, movie):  ### предсказание по паре пользователь и фильм\n",
    "        pred = self.global_mean\n",
    "        user_known, movie_known = False , False\n",
    "        if user in self.user_dict:\n",
    "            user_known = True\n",
    "            u_ix = self.user_dict[user]\n",
    "            pred += self.bias_user[u_ix]\n",
    "\n",
    "        if movie in self.item_dict:\n",
    "            item_known = True\n",
    "            i_ix = self.item_dict[movie]\n",
    "            pred += self.bias_item[i_ix]\n",
    "\n",
    "        if user_known and movie_known:\n",
    "            pred += np.dot(self.pu[u_ix], self.qi[i_ix])\n",
    "\n",
    "\n",
    "        return pred  \n",
    "    def predict2(self,user,X):  ### предсказание по паре пользователю и фидьмам\n",
    "        predictions=[]\n",
    "        k1=0\n",
    "        for j in X['movieID']:\n",
    "            k=self.predict1(user, j)\n",
    "            predictions.append(k)\n",
    "            if k>k1:\n",
    "                k1=k\n",
    "                j1=j\n",
    "       \n",
    "        return predictions,j \n",
    "    \n",
    "from numba import njit\n",
    "@njit\n",
    "def run(X, pu, qi, bias_user, bias_item, global_mean, n_factors, lr, reg):      ####Градиентный спуск \n",
    "   \n",
    "    for i in range(X.shape[0]):\n",
    "        user = int(X[i, 0])\n",
    "        movie = int(X[i, 1])\n",
    "        rating = int(X[i, 2])\n",
    "\n",
    "        \n",
    "        pred = global_mean + bias_user[user] + bias_item[movie] + np.dot(pu[user], qi[movie])    \n",
    "        err = rating - pred\n",
    "\n",
    "        bias_user[user] += lr * (err - reg * bias_user[user])\n",
    "        bias_item[movie] += lr * (err - reg * bias_item[movie])\n",
    "        \n",
    "\n",
    "        for factor in range(n_factors):\n",
    "            puf = pu[user, factor]\n",
    "            qif = qi[movie, factor]\n",
    "       \n",
    "            pu[user, factor] += lr * (err * qif - reg * pu[user, factor])\n",
    "            qi[movie, factor] += lr * (err * puf - reg * qi[movie, factor])\n",
    "        \n",
    "    return pu, qi, bias_user, bias_item"
   ]
  },
  {
   "cell_type": "code",
   "execution_count": 4,
   "metadata": {},
   "outputs": [],
   "source": [
    "train = data.sample(frac=0.8, random_state=2) #тестовая и тренировочкная выборки\n",
    "test = data.drop(train.index.tolist())"
   ]
  },
  {
   "cell_type": "code",
   "execution_count": 5,
   "metadata": {},
   "outputs": [
    {
     "name": "stdout",
     "output_type": "stream",
     "text": [
      "эпоха :  0\n",
      "эпоха :  1\n",
      "эпоха :  2\n",
      "эпоха :  3\n",
      "эпоха :  4\n",
      "эпоха :  5\n",
      "эпоха :  6\n",
      "эпоха :  7\n",
      "эпоха :  8\n",
      "эпоха :  9\n",
      "эпоха :  10\n",
      "эпоха :  11\n",
      "эпоха :  12\n",
      "эпоха :  13\n",
      "эпоха :  14\n",
      "эпоха :  15\n",
      "эпоха :  16\n",
      "эпоха :  17\n",
      "эпоха :  18\n",
      "эпоха :  19\n",
      "эпоха :  20\n",
      "эпоха :  21\n",
      "эпоха :  22\n",
      "эпоха :  23\n",
      "эпоха :  24\n",
      "эпоха :  25\n",
      "эпоха :  26\n",
      "эпоха :  27\n",
      "эпоха :  28\n",
      "эпоха :  29\n",
      "Итоговое время:  12.495714902877808\n"
     ]
    }
   ],
   "source": [
    "svd = SYS()\n",
    "start=time.time()\n",
    "svd.SVD(data=train, n_epochs=30, n_factors=100, lr=0.001,reg=0.05)  ### lr- learning rate , reg - регуляризация\n",
    "print('Итоговое время: ',time.time()-start)"
   ]
  },
  {
   "cell_type": "code",
   "execution_count": 8,
   "metadata": {},
   "outputs": [
    {
     "name": "stdout",
     "output_type": "stream",
     "text": [
      "MAE метрика на тестовой выборке  0.6598288879764763\n",
      "MSE метрика на тестовой выборке  0.7059100731359401\n"
     ]
    }
   ],
   "source": [
    "from sklearn.metrics import mean_absolute_error\n",
    "from sklearn.metrics import mean_squared_error\n",
    "pred=svd.predict(test)\n",
    "print('MAE метрика на тестовой выборке ',mean_absolute_error(test['rating'], pred))\n",
    "print('MSE метрика на тестовой выборке ',mean_squared_error(test['rating'], pred))\n"
   ]
  },
  {
   "cell_type": "code",
   "execution_count": 10,
   "metadata": {},
   "outputs": [
    {
     "name": "stdout",
     "output_type": "stream",
     "text": [
      "4.187442907394168\n",
      "62049\n"
     ]
    }
   ],
   "source": [
    "print(max(svd.predict2(75,data)[0])) ## фильм который система ему порекомендует имеет тэги dystopia ,based on a book ,adapted from:book,remade,not available from netflix\n",
    "print(svd.predict2(75,data)[1])      ## у данного пользователя под номером 75 несколько фильмов жанра дистопия отмечены более чем 4 баллами"
   ]
  },
  {
   "cell_type": "code",
   "execution_count": null,
   "metadata": {},
   "outputs": [],
   "source": []
  }
 ],
 "metadata": {
  "kernelspec": {
   "display_name": "Python 3.6 (tensorflow)",
   "language": "python",
   "name": "tensorflow"
  },
  "language_info": {
   "codemirror_mode": {
    "name": "ipython",
    "version": 3
   },
   "file_extension": ".py",
   "mimetype": "text/x-python",
   "name": "python",
   "nbconvert_exporter": "python",
   "pygments_lexer": "ipython3",
   "version": "3.6.8"
  }
 },
 "nbformat": 4,
 "nbformat_minor": 2
}
